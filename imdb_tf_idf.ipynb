{
 "cells": [
  {
   "cell_type": "markdown",
   "id": "0e137d8f",
   "metadata": {},
   "source": [
    "### Sentiment Analysis on Imdb: tf-idf + Naive Bayes\n",
    "\n",
    "This is a classical exercise of Sentiment Analysis, based on the famous IMdb dataset"
   ]
  },
  {
   "cell_type": "code",
   "execution_count": 1,
   "id": "d7d072a4",
   "metadata": {},
   "outputs": [
    {
     "name": "stderr",
     "output_type": "stream",
     "text": [
      "[nltk_data] Downloading package stopwords to\n",
      "[nltk_data]     /home/datascience/nltk_data...\n",
      "[nltk_data]   Package stopwords is already up-to-date!\n"
     ]
    },
    {
     "data": {
      "text/plain": [
       "True"
      ]
     },
     "execution_count": 1,
     "metadata": {},
     "output_type": "execute_result"
    }
   ],
   "source": [
    "import pandas as pd\n",
    "import numpy as np\n",
    "import os\n",
    "from tqdm import tqdm\n",
    "\n",
    "import re\n",
    "import nltk\n",
    "from nltk.corpus import stopwords\n",
    "\n",
    "from sklearn.metrics import accuracy_score, f1_score\n",
    "from sklearn.feature_extraction.text import TfidfVectorizer\n",
    "from sklearn.model_selection import train_test_split\n",
    "from sklearn.metrics import accuracy_score\n",
    "\n",
    "from sklearn.naive_bayes import GaussianNB, MultinomialNB\n",
    "\n",
    "nltk.download('stopwords')"
   ]
  },
  {
   "cell_type": "code",
   "execution_count": 2,
   "id": "24d5fb7c",
   "metadata": {},
   "outputs": [],
   "source": [
    "# to remove stop words from text\n",
    "stop = stopwords.words('english')"
   ]
  },
  {
   "cell_type": "markdown",
   "id": "3a7f15a2",
   "metadata": {},
   "source": [
    "### Loading the dataset as a DataFrame"
   ]
  },
  {
   "cell_type": "code",
   "execution_count": 3,
   "id": "8ade7c9f",
   "metadata": {},
   "outputs": [
    {
     "name": "stderr",
     "output_type": "stream",
     "text": [
      "100%|██████████| 50000/50000 [01:34<00:00, 531.54it/s]\n"
     ]
    }
   ],
   "source": [
    "# it takes some time... good to have a progress bar\n",
    "basepath = 'aclImdb'\n",
    "\n",
    "labels = {'pos': 1, 'neg': 0}\n",
    "\n",
    "df = pd.DataFrame()\n",
    "\n",
    "with tqdm(total=50000) as pbar:\n",
    "    for s in ('test', 'train'):\n",
    "        for l in ('pos', 'neg'):\n",
    "            path = os.path.join(basepath, s, l)\n",
    "            for file in sorted(os.listdir(path)):\n",
    "                with open(os.path.join(path, file), \n",
    "                          'r', encoding='utf-8') as infile:\n",
    "                    txt = infile.read()\n",
    "                df = df.append([[txt, labels[l]]], \n",
    "                               ignore_index=True)\n",
    "                \n",
    "                pbar.update(1)\n",
    "                \n",
    "df.columns = ['text', 'target']"
   ]
  },
  {
   "cell_type": "markdown",
   "id": "fcd739cf",
   "metadata": {},
   "source": [
    "### preprocess text"
   ]
  },
  {
   "cell_type": "code",
   "execution_count": 4,
   "id": "3533409b",
   "metadata": {},
   "outputs": [],
   "source": [
    "# for text cleaning: add some percentage points to the result\n",
    "def preprocessor(text):\n",
    "    text = re.sub('<[^>]*>', '', text)\n",
    "    emoticons = re.findall('(?::|;|=)(?:-)?(?:\\)|\\(|D|P)',\n",
    "                           text)\n",
    "    text = (re.sub('[\\W]+', ' ', text.lower()) +\n",
    "            ' '.join(emoticons).replace('-', ''))\n",
    "\n",
    "    return text\n",
    "\n",
    "# if you want to test the difference without text preprocessing\n",
    "def dummy_preprocessor(text):\n",
    "    return text"
   ]
  },
  {
   "cell_type": "code",
   "execution_count": 5,
   "id": "048029fd",
   "metadata": {},
   "outputs": [],
   "source": [
    "# apply globally\n",
    "df['text'] = df['text'].apply(preprocessor)"
   ]
  },
  {
   "cell_type": "code",
   "execution_count": 6,
   "id": "7971b563",
   "metadata": {},
   "outputs": [],
   "source": [
    "# this is our text corpus\n",
    "corpus = df['text'].values"
   ]
  },
  {
   "cell_type": "code",
   "execution_count": 7,
   "id": "2a5a1288",
   "metadata": {},
   "outputs": [],
   "source": [
    "# removing words from stop words list\n",
    "vectorizer = TfidfVectorizer(stop_words=stop)\n",
    "\n",
    "# feature extraction using tf-idf\n",
    "X = vectorizer.fit_transform(corpus)\n",
    "y = df['target'].values"
   ]
  },
  {
   "cell_type": "code",
   "execution_count": 8,
   "id": "ebd049fc",
   "metadata": {},
   "outputs": [
    {
     "data": {
      "text/plain": [
       "(50000, 103938)"
      ]
     },
     "execution_count": 8,
     "metadata": {},
     "output_type": "execute_result"
    }
   ],
   "source": [
    "# as we can see, we have a very large (103938) number of extracted features\n",
    "X.shape"
   ]
  },
  {
   "cell_type": "code",
   "execution_count": 9,
   "id": "9f825d08",
   "metadata": {},
   "outputs": [],
   "source": [
    "# train/validation split\n",
    "SEED = 1234\n",
    "\n",
    "X_train, X_valid, y_train, y_valid = train_test_split(X, y, test_size=0.2, random_state=SEED)"
   ]
  },
  {
   "cell_type": "code",
   "execution_count": 10,
   "id": "7f143e21",
   "metadata": {},
   "outputs": [],
   "source": [
    "# remove sparsity\n",
    "X_train = X_train.toarray()\n",
    "X_valid = X_valid.toarray()"
   ]
  },
  {
   "cell_type": "markdown",
   "id": "57642c81",
   "metadata": {},
   "source": [
    "### train the classifier Naive Bayes (NB)"
   ]
  },
  {
   "cell_type": "code",
   "execution_count": 12,
   "id": "ac3a702a",
   "metadata": {},
   "outputs": [
    {
     "name": "stdout",
     "output_type": "stream",
     "text": [
      "CPU times: user 16.5 s, sys: 1.85 s, total: 18.3 s\n",
      "Wall time: 7.51 s\n"
     ]
    },
    {
     "data": {
      "text/plain": [
       "MultinomialNB()"
      ]
     },
     "execution_count": 12,
     "metadata": {},
     "output_type": "execute_result"
    }
   ],
   "source": [
    "%%time\n",
    "# train of the classifier\n",
    "# MUltinomial works better than Gaussian\n",
    "\n",
    "clf = MultinomialNB()\n",
    "\n",
    "clf.fit(X_train, y_train)"
   ]
  },
  {
   "cell_type": "markdown",
   "id": "1eb40d89",
   "metadata": {},
   "source": [
    "### Validation"
   ]
  },
  {
   "cell_type": "code",
   "execution_count": 13,
   "id": "1c6e6c8a",
   "metadata": {},
   "outputs": [],
   "source": [
    "y_pred = clf.predict(X_valid)"
   ]
  },
  {
   "cell_type": "code",
   "execution_count": 14,
   "id": "99b3879b",
   "metadata": {},
   "outputs": [
    {
     "name": "stdout",
     "output_type": "stream",
     "text": [
      "Number of mislabeled points out of a total 10000 texts : 1355\n"
     ]
    }
   ],
   "source": [
    "print(\"Number of mislabeled points out of a total %d texts : %d\" % (X_valid.shape[0], (y_valid != y_pred).sum()))"
   ]
  },
  {
   "cell_type": "code",
   "execution_count": 15,
   "id": "48fdf771",
   "metadata": {},
   "outputs": [
    {
     "name": "stdout",
     "output_type": "stream",
     "text": [
      "ACC score computed on validation set: 0.864\n"
     ]
    }
   ],
   "source": [
    "acc = accuracy_score(y_valid, y_pred)\n",
    "\n",
    "print(f\"ACC score computed on validation set: {round(acc, 3)}\")"
   ]
  },
  {
   "cell_type": "markdown",
   "id": "017b282d",
   "metadata": {},
   "source": [
    "### Final remarks\n",
    "It is easy to develop a Model based on the **bags-of-words** approach. We need only to use the **TfidfVectorizer** provided by sklearn.\n",
    "\n",
    "To increase the accuracy I have added:\n",
    "* some preprocessing to polish the text\n",
    "* removal of stop words\n",
    "\n",
    "As we can easy, such a simple model gives an:\n",
    "* ACC = 0.864\n",
    "\n",
    "The reason is that to understand if the mood is positive or negative sometimes it is enough to see which words are contained in the text."
   ]
  },
  {
   "cell_type": "code",
   "execution_count": null,
   "id": "fd1905d5",
   "metadata": {},
   "outputs": [],
   "source": []
  }
 ],
 "metadata": {
  "kernelspec": {
   "display_name": "Python [conda env:nlp_p37_gpu_v2]",
   "language": "python",
   "name": "conda-env-nlp_p37_gpu_v2-py"
  },
  "language_info": {
   "codemirror_mode": {
    "name": "ipython",
    "version": 3
   },
   "file_extension": ".py",
   "mimetype": "text/x-python",
   "name": "python",
   "nbconvert_exporter": "python",
   "pygments_lexer": "ipython3",
   "version": "3.7.8"
  }
 },
 "nbformat": 4,
 "nbformat_minor": 5
}
