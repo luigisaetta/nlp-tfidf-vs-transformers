{
 "cells": [
  {
   "cell_type": "markdown",
   "id": "9e4e2d12",
   "metadata": {},
   "source": [
    "### Sentiment Analysis on Imdb: tf-idf + Naive Bayes\n",
    "\n",
    "This is a classical exercise of Sentiment Analysis, based on the famous IMdb dataset. Text is vectorized using sklearn tf-idf.\n",
    "\n",
    "As a classifier, we're using Multinomial Naive Bayes\n",
    "\n",
    "* added k-fold cv to better compare with distil-bert"
   ]
  },
  {
   "cell_type": "code",
   "execution_count": 1,
   "id": "e5442307",
   "metadata": {},
   "outputs": [
    {
     "name": "stderr",
     "output_type": "stream",
     "text": [
      "[nltk_data] Downloading package stopwords to\n",
      "[nltk_data]     /home/datascience/nltk_data...\n",
      "[nltk_data]   Package stopwords is already up-to-date!\n"
     ]
    },
    {
     "data": {
      "text/plain": [
       "True"
      ]
     },
     "execution_count": 1,
     "metadata": {},
     "output_type": "execute_result"
    }
   ],
   "source": [
    "import pandas as pd\n",
    "import numpy as np\n",
    "import os\n",
    "from tqdm import tqdm\n",
    "\n",
    "import re\n",
    "import nltk\n",
    "from nltk.corpus import stopwords\n",
    "\n",
    "from sklearn.model_selection import KFold\n",
    "from sklearn.metrics import accuracy_score, f1_score\n",
    "from sklearn.feature_extraction.text import TfidfVectorizer\n",
    "from sklearn.model_selection import train_test_split\n",
    "from sklearn.metrics import accuracy_score\n",
    "\n",
    "from sklearn.naive_bayes import GaussianNB, MultinomialNB\n",
    "\n",
    "nltk.download('stopwords')"
   ]
  },
  {
   "cell_type": "code",
   "execution_count": 2,
   "id": "4af4cc05",
   "metadata": {},
   "outputs": [],
   "source": [
    "# to remove stop words from text\n",
    "stop = stopwords.words('english')"
   ]
  },
  {
   "cell_type": "markdown",
   "id": "77b1a7b5",
   "metadata": {},
   "source": [
    "### Loading the dataset as a DataFrame"
   ]
  },
  {
   "cell_type": "code",
   "execution_count": 3,
   "id": "a70f0d95",
   "metadata": {},
   "outputs": [
    {
     "name": "stderr",
     "output_type": "stream",
     "text": [
      "100%|██████████| 50000/50000 [02:11<00:00, 379.85it/s]\n"
     ]
    }
   ],
   "source": [
    "# it takes some time... good to have a progress bar\n",
    "basepath = 'aclImdb'\n",
    "\n",
    "labels = {'pos': 1, 'neg': 0}\n",
    "\n",
    "df = pd.DataFrame()\n",
    "\n",
    "with tqdm(total=50000) as pbar:\n",
    "    for s in ('test', 'train'):\n",
    "        for l in ('pos', 'neg'):\n",
    "            path = os.path.join(basepath, s, l)\n",
    "            for file in sorted(os.listdir(path)):\n",
    "                with open(os.path.join(path, file), \n",
    "                          'r', encoding='utf-8') as infile:\n",
    "                    txt = infile.read()\n",
    "                df = df.append([[txt, labels[l]]], \n",
    "                               ignore_index=True)\n",
    "                \n",
    "                pbar.update(1)\n",
    "                \n",
    "df.columns = ['text', 'target']"
   ]
  },
  {
   "cell_type": "markdown",
   "id": "980f45e4",
   "metadata": {},
   "source": [
    "### preprocess text"
   ]
  },
  {
   "cell_type": "code",
   "execution_count": 4,
   "id": "a10a16e1",
   "metadata": {},
   "outputs": [],
   "source": [
    "# for text cleaning: add some percentage points to the result\n",
    "def preprocessor(text):\n",
    "    text = re.sub('<[^>]*>', '', text)\n",
    "    emoticons = re.findall('(?::|;|=)(?:-)?(?:\\)|\\(|D|P)',\n",
    "                           text)\n",
    "    text = (re.sub('[\\W]+', ' ', text.lower()) +\n",
    "            ' '.join(emoticons).replace('-', ''))\n",
    "\n",
    "    return text\n",
    "\n",
    "# if you want to test the difference without text preprocessing\n",
    "def dummy_preprocessor(text):\n",
    "    return text"
   ]
  },
  {
   "cell_type": "code",
   "execution_count": 5,
   "id": "28c7d270",
   "metadata": {},
   "outputs": [],
   "source": [
    "# apply globally\n",
    "df['text'] = df['text'].apply(preprocessor)"
   ]
  },
  {
   "cell_type": "code",
   "execution_count": 6,
   "id": "d4d8b3c4",
   "metadata": {},
   "outputs": [],
   "source": [
    "# this is our text corpus\n",
    "corpus = df['text'].values"
   ]
  },
  {
   "cell_type": "code",
   "execution_count": 7,
   "id": "504b71d6",
   "metadata": {},
   "outputs": [],
   "source": [
    "# removing words from stop words list\n",
    "vectorizer = TfidfVectorizer(stop_words=stop)\n",
    "\n",
    "# feature extraction using tf-idf\n",
    "X = vectorizer.fit_transform(corpus)\n",
    "y = df['target'].values"
   ]
  },
  {
   "cell_type": "code",
   "execution_count": 8,
   "id": "a99504b4",
   "metadata": {},
   "outputs": [
    {
     "data": {
      "text/plain": [
       "(50000, 103938)"
      ]
     },
     "execution_count": 8,
     "metadata": {},
     "output_type": "execute_result"
    }
   ],
   "source": [
    "# as we can see, we have a very large (103938) number of extracted features\n",
    "X.shape"
   ]
  },
  {
   "cell_type": "markdown",
   "id": "b035fc38",
   "metadata": {},
   "source": [
    "### train the classifier Naive Bayes (NB)"
   ]
  },
  {
   "cell_type": "code",
   "execution_count": 9,
   "id": "764896b7",
   "metadata": {},
   "outputs": [
    {
     "name": "stdout",
     "output_type": "stream",
     "text": [
      "\n",
      "Processing fold: 1\n",
      "acc: 0.865\n",
      "\n",
      "\n",
      "Processing fold: 2\n",
      "acc: 0.862\n",
      "\n",
      "\n",
      "Processing fold: 3\n",
      "acc: 0.868\n",
      "\n",
      "\n",
      "Processing fold: 4\n",
      "acc: 0.87\n",
      "\n",
      "\n",
      "Processing fold: 5\n",
      "acc: 0.867\n",
      "\n",
      "CPU times: user 1min 51s, sys: 52.1 s, total: 2min 43s\n",
      "Wall time: 1min 26s\n"
     ]
    }
   ],
   "source": [
    "%%time\n",
    "\n",
    "SEED = 1432\n",
    "N_FOLDS = 5\n",
    "\n",
    "kf = KFold(n_splits=N_FOLDS, shuffle=True, random_state=SEED)\n",
    "\n",
    "avg_acc_score = 0.\n",
    "\n",
    "for i, (train_idx, valid_idx) in enumerate(kf.split(X)):\n",
    "    print()\n",
    "    print(\"Processing fold:\", i + 1)\n",
    "\n",
    "    # here we split the DataFrame, using the indexes for the fold\n",
    "\n",
    "    X_train = X[train_idx].toarray()\n",
    "    y_train = y[train_idx]\n",
    "    \n",
    "    X_valid = X[valid_idx].toarray()\n",
    "    y_valid = y[valid_idx]\n",
    "    \n",
    "    # train of the classifier\n",
    "    # MUltinomial works better than Gaussian\n",
    "\n",
    "    clf = MultinomialNB()\n",
    "\n",
    "    clf.fit(X_train, y_train)\n",
    "    \n",
    "    y_pred = clf.predict(X_valid)\n",
    "    \n",
    "    acc = accuracy_score(y_valid, y_pred)\n",
    "    \n",
    "    print(f\"acc: {round(acc, 3)}\")\n",
    "    print()\n",
    "    \n",
    "    avg_acc_score += acc/N_FOLDS"
   ]
  },
  {
   "cell_type": "markdown",
   "id": "e66735fc",
   "metadata": {},
   "source": [
    "### Validation"
   ]
  },
  {
   "cell_type": "code",
   "execution_count": 10,
   "id": "36287289",
   "metadata": {},
   "outputs": [
    {
     "name": "stdout",
     "output_type": "stream",
     "text": [
      "Avg ACC score computed on validation set: 0.866\n"
     ]
    }
   ],
   "source": [
    "print(f\"Avg ACC score computed on validation set: {round(avg_acc_score, 3)}\")"
   ]
  },
  {
   "cell_type": "markdown",
   "id": "3c1cc65d",
   "metadata": {},
   "source": [
    "### Final remarks\n",
    "It is easy to develop a Model based on the **bags-of-words** approach. We need only to use the **TfidfVectorizer** provided by sklearn.\n",
    "\n",
    "To increase the accuracy I have added:\n",
    "* some preprocessing to clean the text\n",
    "* removal of stop words\n",
    "\n",
    "As we can easy see, such a simple model gives an:\n",
    "* ACC = 0.866\n",
    "\n",
    "The reason is that to understand if the mood is positive or negative sometimes it is enough to see which words are contained in the text."
   ]
  },
  {
   "cell_type": "code",
   "execution_count": null,
   "id": "e0f79551",
   "metadata": {},
   "outputs": [],
   "source": []
  }
 ],
 "metadata": {
  "kernelspec": {
   "display_name": "Python [conda env:nlp_p37_gpu_v2]",
   "language": "python",
   "name": "conda-env-nlp_p37_gpu_v2-py"
  },
  "language_info": {
   "codemirror_mode": {
    "name": "ipython",
    "version": 3
   },
   "file_extension": ".py",
   "mimetype": "text/x-python",
   "name": "python",
   "nbconvert_exporter": "python",
   "pygments_lexer": "ipython3",
   "version": "3.7.8"
  }
 },
 "nbformat": 4,
 "nbformat_minor": 5
}
