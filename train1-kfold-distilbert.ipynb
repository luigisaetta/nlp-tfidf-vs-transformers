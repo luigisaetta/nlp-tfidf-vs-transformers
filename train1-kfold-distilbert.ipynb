{
 "cells": [
  {
   "cell_type": "markdown",
   "id": "fea18aae",
   "metadata": {},
   "source": [
    "### Distilbert con k-fold cv\n",
    "\n",
    "Distil-bert applied to IMdb\n",
    "\n",
    "* max_lentgh = 300\n",
    "* FRAC = 1\n",
    "* k fold cv (folds = 5)"
   ]
  },
  {
   "cell_type": "code",
   "execution_count": 1,
   "id": "bd45dd8b",
   "metadata": {},
   "outputs": [],
   "source": [
    "import pandas as pd\n",
    "import numpy as np\n",
    "import os\n",
    "from tqdm import tqdm\n",
    "\n",
    "from sklearn.model_selection import KFold\n",
    "from sklearn.metrics import accuracy_score, f1_score\n",
    "\n",
    "# Transformers\n",
    "from datasets import Dataset\n",
    "\n",
    "import torch\n",
    "\n",
    "from transformers import AutoTokenizer\n",
    "from transformers import AutoModelForSequenceClassification\n",
    "from transformers import Trainer, TrainingArguments\n",
    "from transformers import Trainer"
   ]
  },
  {
   "cell_type": "code",
   "execution_count": 2,
   "id": "6104ef80",
   "metadata": {},
   "outputs": [],
   "source": [
    "# utility functions\n",
    "\n",
    "def compute_metrics(pred):\n",
    "    labels = pred.label_ids\n",
    "    preds = pred.predictions.argmax(-1)\n",
    "    \n",
    "    f1 = f1_score(labels, preds, average=\"weighted\")\n",
    "    acc = accuracy_score(labels, preds)\n",
    "    \n",
    "    return {\"accuracy\": acc, \"f1\": f1}"
   ]
  },
  {
   "cell_type": "code",
   "execution_count": 3,
   "id": "4f327285",
   "metadata": {},
   "outputs": [],
   "source": [
    "# globals\n",
    "EPOCHS = 3\n",
    "# changed from 5\n",
    "N_FOLDS = 5\n",
    "\n",
    "# max length for text (truncation), see eda1 NB\n",
    "MAX_LENGTH = 300\n",
    "\n",
    "# we define here the pre-trained model we're using\n",
    "MODEL_CKPT = \"distilbert-base-uncased\""
   ]
  },
  {
   "cell_type": "markdown",
   "id": "b0f11b42",
   "metadata": {},
   "source": [
    "### Prepare train and validation dataset"
   ]
  },
  {
   "cell_type": "code",
   "execution_count": 4,
   "id": "443edf2d",
   "metadata": {},
   "outputs": [
    {
     "name": "stderr",
     "output_type": "stream",
     "text": [
      "100%|██████████| 50000/50000 [01:34<00:00, 529.03it/s]\n"
     ]
    }
   ],
   "source": [
    "# it takes some time... good to have a progress bar\n",
    "basepath = 'aclImdb'\n",
    "NUM_FILES = 50000\n",
    "\n",
    "labels = {'pos': 1, 'neg': 0}\n",
    "\n",
    "df = pd.DataFrame()\n",
    "\n",
    "with tqdm(total=NUM_FILES) as pbar:\n",
    "    for s in ('test', 'train'):\n",
    "        for l in ('pos', 'neg'):\n",
    "            path = os.path.join(basepath, s, l)\n",
    "            for file in sorted(os.listdir(path)):\n",
    "                with open(os.path.join(path, file), \n",
    "                          'r', encoding='utf-8') as infile:\n",
    "                    txt = infile.read()\n",
    "                df = df.append([[txt, labels[l]]], \n",
    "                               ignore_index=True)\n",
    "                \n",
    "                pbar.update(1)\n",
    "                \n",
    "df.columns = ['text', 'target']"
   ]
  },
  {
   "cell_type": "code",
   "execution_count": 5,
   "id": "2e398972",
   "metadata": {},
   "outputs": [
    {
     "data": {
      "text/html": [
       "<div>\n",
       "<style scoped>\n",
       "    .dataframe tbody tr th:only-of-type {\n",
       "        vertical-align: middle;\n",
       "    }\n",
       "\n",
       "    .dataframe tbody tr th {\n",
       "        vertical-align: top;\n",
       "    }\n",
       "\n",
       "    .dataframe thead th {\n",
       "        text-align: right;\n",
       "    }\n",
       "</style>\n",
       "<table border=\"1\" class=\"dataframe\">\n",
       "  <thead>\n",
       "    <tr style=\"text-align: right;\">\n",
       "      <th></th>\n",
       "      <th>text</th>\n",
       "      <th>target</th>\n",
       "    </tr>\n",
       "  </thead>\n",
       "  <tbody>\n",
       "    <tr>\n",
       "      <th>0</th>\n",
       "      <td>I went and saw this movie last night after bei...</td>\n",
       "      <td>1</td>\n",
       "    </tr>\n",
       "    <tr>\n",
       "      <th>1</th>\n",
       "      <td>Actor turned director Bill Paxton follows up h...</td>\n",
       "      <td>1</td>\n",
       "    </tr>\n",
       "    <tr>\n",
       "      <th>2</th>\n",
       "      <td>As a recreational golfer with some knowledge o...</td>\n",
       "      <td>1</td>\n",
       "    </tr>\n",
       "    <tr>\n",
       "      <th>3</th>\n",
       "      <td>I saw this film in a sneak preview, and it is ...</td>\n",
       "      <td>1</td>\n",
       "    </tr>\n",
       "    <tr>\n",
       "      <th>4</th>\n",
       "      <td>Bill Paxton has taken the true story of the 19...</td>\n",
       "      <td>1</td>\n",
       "    </tr>\n",
       "  </tbody>\n",
       "</table>\n",
       "</div>"
      ],
      "text/plain": [
       "                                                text  target\n",
       "0  I went and saw this movie last night after bei...       1\n",
       "1  Actor turned director Bill Paxton follows up h...       1\n",
       "2  As a recreational golfer with some knowledge o...       1\n",
       "3  I saw this film in a sneak preview, and it is ...       1\n",
       "4  Bill Paxton has taken the true story of the 19...       1"
      ]
     },
     "execution_count": 5,
     "metadata": {},
     "output_type": "execute_result"
    }
   ],
   "source": [
    "df.head()"
   ]
  },
  {
   "cell_type": "code",
   "execution_count": 6,
   "id": "ccc94939",
   "metadata": {},
   "outputs": [],
   "source": [
    "# shuffle\n",
    "FRAC = 1\n",
    "\n",
    "df = df.sample(frac=FRAC)"
   ]
  },
  {
   "cell_type": "code",
   "execution_count": 7,
   "id": "01f0d679",
   "metadata": {},
   "outputs": [],
   "source": [
    "# num of distinct labels\n",
    "NUM_LABELS = df['target'].nunique()"
   ]
  },
  {
   "cell_type": "markdown",
   "id": "95cf6b35",
   "metadata": {},
   "source": [
    "### for text Tokenization"
   ]
  },
  {
   "cell_type": "code",
   "execution_count": 12,
   "id": "7ebbacb9",
   "metadata": {},
   "outputs": [],
   "source": [
    "tokenizer = AutoTokenizer.from_pretrained(MODEL_CKPT)"
   ]
  },
  {
   "cell_type": "code",
   "execution_count": 13,
   "id": "51bbb06e",
   "metadata": {},
   "outputs": [],
   "source": [
    "def tokenize(batch):\n",
    "    return tokenizer(batch[\"text\"], padding=True, truncation=True, max_length=MAX_LENGTH)"
   ]
  },
  {
   "cell_type": "markdown",
   "id": "a2a231b5",
   "metadata": {},
   "source": [
    "### k-fold training"
   ]
  },
  {
   "cell_type": "code",
   "execution_count": 14,
   "id": "fd910721",
   "metadata": {},
   "outputs": [
    {
     "name": "stdout",
     "output_type": "stream",
     "text": [
      "\n",
      "Processing fold: 1\n",
      "There are 40000 samples in train set\n",
      "There are 10000 samples in valid set\n"
     ]
    },
    {
     "data": {
      "application/vnd.jupyter.widget-view+json": {
       "model_id": "5a6dd932ce6f454395d921b28ad2b5f2",
       "version_major": 2,
       "version_minor": 0
      },
      "text/plain": [
       "HBox(children=(FloatProgress(value=0.0, max=1.0), HTML(value='')))"
      ]
     },
     "metadata": {},
     "output_type": "display_data"
    },
    {
     "name": "stdout",
     "output_type": "stream",
     "text": [
      "\n"
     ]
    },
    {
     "data": {
      "application/vnd.jupyter.widget-view+json": {
       "model_id": "dbcb1b01f6364681b714881d919c5830",
       "version_major": 2,
       "version_minor": 0
      },
      "text/plain": [
       "HBox(children=(FloatProgress(value=0.0, max=1.0), HTML(value='')))"
      ]
     },
     "metadata": {},
     "output_type": "display_data"
    },
    {
     "name": "stdout",
     "output_type": "stream",
     "text": [
      "\n"
     ]
    },
    {
     "data": {
      "text/html": [
       "\n",
       "    <div>\n",
       "      \n",
       "      <progress value='3750' max='3750' style='width:300px; height:20px; vertical-align: middle;'></progress>\n",
       "      [3750/3750 33:59, Epoch 3/3]\n",
       "    </div>\n",
       "    <table border=\"1\" class=\"dataframe\">\n",
       "  <thead>\n",
       "    <tr style=\"text-align: left;\">\n",
       "      <th>Epoch</th>\n",
       "      <th>Training Loss</th>\n",
       "      <th>Validation Loss</th>\n",
       "      <th>Accuracy</th>\n",
       "      <th>F1</th>\n",
       "    </tr>\n",
       "  </thead>\n",
       "  <tbody>\n",
       "    <tr>\n",
       "      <td>1</td>\n",
       "      <td>0.257000</td>\n",
       "      <td>0.212051</td>\n",
       "      <td>0.913800</td>\n",
       "      <td>0.913709</td>\n",
       "    </tr>\n",
       "    <tr>\n",
       "      <td>2</td>\n",
       "      <td>0.153900</td>\n",
       "      <td>0.206692</td>\n",
       "      <td>0.925100</td>\n",
       "      <td>0.925087</td>\n",
       "    </tr>\n",
       "    <tr>\n",
       "      <td>3</td>\n",
       "      <td>0.095600</td>\n",
       "      <td>0.262592</td>\n",
       "      <td>0.923700</td>\n",
       "      <td>0.923700</td>\n",
       "    </tr>\n",
       "  </tbody>\n",
       "</table><p>"
      ],
      "text/plain": [
       "<IPython.core.display.HTML object>"
      ]
     },
     "metadata": {},
     "output_type": "display_data"
    },
    {
     "data": {
      "text/html": [
       "\n",
       "    <div>\n",
       "      \n",
       "      <progress value='1250' max='1250' style='width:300px; height:20px; vertical-align: middle;'></progress>\n",
       "      [1250/1250 01:02]\n",
       "    </div>\n",
       "    "
      ],
      "text/plain": [
       "<IPython.core.display.HTML object>"
      ]
     },
     "metadata": {},
     "output_type": "display_data"
    },
    {
     "name": "stdout",
     "output_type": "stream",
     "text": [
      "\n",
      "Processing fold: 2\n",
      "There are 40000 samples in train set\n",
      "There are 10000 samples in valid set\n"
     ]
    },
    {
     "data": {
      "application/vnd.jupyter.widget-view+json": {
       "model_id": "c2c352bcadba40418c65e76f57df6297",
       "version_major": 2,
       "version_minor": 0
      },
      "text/plain": [
       "HBox(children=(FloatProgress(value=0.0, max=1.0), HTML(value='')))"
      ]
     },
     "metadata": {},
     "output_type": "display_data"
    },
    {
     "name": "stdout",
     "output_type": "stream",
     "text": [
      "\n"
     ]
    },
    {
     "data": {
      "application/vnd.jupyter.widget-view+json": {
       "model_id": "4cbbf2cad6104e188f31a50b3db1a998",
       "version_major": 2,
       "version_minor": 0
      },
      "text/plain": [
       "HBox(children=(FloatProgress(value=0.0, max=1.0), HTML(value='')))"
      ]
     },
     "metadata": {},
     "output_type": "display_data"
    },
    {
     "name": "stdout",
     "output_type": "stream",
     "text": [
      "\n"
     ]
    },
    {
     "data": {
      "text/html": [
       "\n",
       "    <div>\n",
       "      \n",
       "      <progress value='3750' max='3750' style='width:300px; height:20px; vertical-align: middle;'></progress>\n",
       "      [3750/3750 34:03, Epoch 3/3]\n",
       "    </div>\n",
       "    <table border=\"1\" class=\"dataframe\">\n",
       "  <thead>\n",
       "    <tr style=\"text-align: left;\">\n",
       "      <th>Epoch</th>\n",
       "      <th>Training Loss</th>\n",
       "      <th>Validation Loss</th>\n",
       "      <th>Accuracy</th>\n",
       "      <th>F1</th>\n",
       "    </tr>\n",
       "  </thead>\n",
       "  <tbody>\n",
       "    <tr>\n",
       "      <td>1</td>\n",
       "      <td>0.261100</td>\n",
       "      <td>0.200948</td>\n",
       "      <td>0.921000</td>\n",
       "      <td>0.920964</td>\n",
       "    </tr>\n",
       "    <tr>\n",
       "      <td>2</td>\n",
       "      <td>0.154000</td>\n",
       "      <td>0.202859</td>\n",
       "      <td>0.926700</td>\n",
       "      <td>0.926684</td>\n",
       "    </tr>\n",
       "    <tr>\n",
       "      <td>3</td>\n",
       "      <td>0.098500</td>\n",
       "      <td>0.250743</td>\n",
       "      <td>0.927700</td>\n",
       "      <td>0.927699</td>\n",
       "    </tr>\n",
       "  </tbody>\n",
       "</table><p>"
      ],
      "text/plain": [
       "<IPython.core.display.HTML object>"
      ]
     },
     "metadata": {},
     "output_type": "display_data"
    },
    {
     "data": {
      "text/html": [
       "\n",
       "    <div>\n",
       "      \n",
       "      <progress value='1250' max='1250' style='width:300px; height:20px; vertical-align: middle;'></progress>\n",
       "      [1250/1250 01:02]\n",
       "    </div>\n",
       "    "
      ],
      "text/plain": [
       "<IPython.core.display.HTML object>"
      ]
     },
     "metadata": {},
     "output_type": "display_data"
    },
    {
     "name": "stdout",
     "output_type": "stream",
     "text": [
      "\n",
      "Processing fold: 3\n",
      "There are 40000 samples in train set\n",
      "There are 10000 samples in valid set\n"
     ]
    },
    {
     "data": {
      "application/vnd.jupyter.widget-view+json": {
       "model_id": "2931e1ab1c8242f4980b7955dcbb4819",
       "version_major": 2,
       "version_minor": 0
      },
      "text/plain": [
       "HBox(children=(FloatProgress(value=0.0, max=1.0), HTML(value='')))"
      ]
     },
     "metadata": {},
     "output_type": "display_data"
    },
    {
     "name": "stdout",
     "output_type": "stream",
     "text": [
      "\n"
     ]
    },
    {
     "data": {
      "application/vnd.jupyter.widget-view+json": {
       "model_id": "a16d93fee4ef439bb8ae8a1505bcc188",
       "version_major": 2,
       "version_minor": 0
      },
      "text/plain": [
       "HBox(children=(FloatProgress(value=0.0, max=1.0), HTML(value='')))"
      ]
     },
     "metadata": {},
     "output_type": "display_data"
    },
    {
     "name": "stdout",
     "output_type": "stream",
     "text": [
      "\n"
     ]
    },
    {
     "data": {
      "text/html": [
       "\n",
       "    <div>\n",
       "      \n",
       "      <progress value='3750' max='3750' style='width:300px; height:20px; vertical-align: middle;'></progress>\n",
       "      [3750/3750 34:04, Epoch 3/3]\n",
       "    </div>\n",
       "    <table border=\"1\" class=\"dataframe\">\n",
       "  <thead>\n",
       "    <tr style=\"text-align: left;\">\n",
       "      <th>Epoch</th>\n",
       "      <th>Training Loss</th>\n",
       "      <th>Validation Loss</th>\n",
       "      <th>Accuracy</th>\n",
       "      <th>F1</th>\n",
       "    </tr>\n",
       "  </thead>\n",
       "  <tbody>\n",
       "    <tr>\n",
       "      <td>1</td>\n",
       "      <td>0.255600</td>\n",
       "      <td>0.205512</td>\n",
       "      <td>0.920700</td>\n",
       "      <td>0.920699</td>\n",
       "    </tr>\n",
       "    <tr>\n",
       "      <td>2</td>\n",
       "      <td>0.153000</td>\n",
       "      <td>0.230111</td>\n",
       "      <td>0.922100</td>\n",
       "      <td>0.922087</td>\n",
       "    </tr>\n",
       "    <tr>\n",
       "      <td>3</td>\n",
       "      <td>0.095800</td>\n",
       "      <td>0.255869</td>\n",
       "      <td>0.924900</td>\n",
       "      <td>0.924900</td>\n",
       "    </tr>\n",
       "  </tbody>\n",
       "</table><p>"
      ],
      "text/plain": [
       "<IPython.core.display.HTML object>"
      ]
     },
     "metadata": {},
     "output_type": "display_data"
    },
    {
     "data": {
      "text/html": [
       "\n",
       "    <div>\n",
       "      \n",
       "      <progress value='1250' max='1250' style='width:300px; height:20px; vertical-align: middle;'></progress>\n",
       "      [1250/1250 01:02]\n",
       "    </div>\n",
       "    "
      ],
      "text/plain": [
       "<IPython.core.display.HTML object>"
      ]
     },
     "metadata": {},
     "output_type": "display_data"
    },
    {
     "name": "stdout",
     "output_type": "stream",
     "text": [
      "\n",
      "Processing fold: 4\n",
      "There are 40000 samples in train set\n",
      "There are 10000 samples in valid set\n"
     ]
    },
    {
     "data": {
      "application/vnd.jupyter.widget-view+json": {
       "model_id": "76aaef635c7b4afda4c80b588a72a9ff",
       "version_major": 2,
       "version_minor": 0
      },
      "text/plain": [
       "HBox(children=(FloatProgress(value=0.0, max=1.0), HTML(value='')))"
      ]
     },
     "metadata": {},
     "output_type": "display_data"
    },
    {
     "name": "stdout",
     "output_type": "stream",
     "text": [
      "\n"
     ]
    },
    {
     "data": {
      "application/vnd.jupyter.widget-view+json": {
       "model_id": "e870156fa41348418572000d8d5085f4",
       "version_major": 2,
       "version_minor": 0
      },
      "text/plain": [
       "HBox(children=(FloatProgress(value=0.0, max=1.0), HTML(value='')))"
      ]
     },
     "metadata": {},
     "output_type": "display_data"
    },
    {
     "name": "stdout",
     "output_type": "stream",
     "text": [
      "\n"
     ]
    },
    {
     "data": {
      "text/html": [
       "\n",
       "    <div>\n",
       "      \n",
       "      <progress value='3750' max='3750' style='width:300px; height:20px; vertical-align: middle;'></progress>\n",
       "      [3750/3750 34:05, Epoch 3/3]\n",
       "    </div>\n",
       "    <table border=\"1\" class=\"dataframe\">\n",
       "  <thead>\n",
       "    <tr style=\"text-align: left;\">\n",
       "      <th>Epoch</th>\n",
       "      <th>Training Loss</th>\n",
       "      <th>Validation Loss</th>\n",
       "      <th>Accuracy</th>\n",
       "      <th>F1</th>\n",
       "    </tr>\n",
       "  </thead>\n",
       "  <tbody>\n",
       "    <tr>\n",
       "      <td>1</td>\n",
       "      <td>0.257400</td>\n",
       "      <td>0.220832</td>\n",
       "      <td>0.916400</td>\n",
       "      <td>0.916330</td>\n",
       "    </tr>\n",
       "    <tr>\n",
       "      <td>2</td>\n",
       "      <td>0.154900</td>\n",
       "      <td>0.238321</td>\n",
       "      <td>0.915600</td>\n",
       "      <td>0.915458</td>\n",
       "    </tr>\n",
       "    <tr>\n",
       "      <td>3</td>\n",
       "      <td>0.097100</td>\n",
       "      <td>0.262709</td>\n",
       "      <td>0.925400</td>\n",
       "      <td>0.925396</td>\n",
       "    </tr>\n",
       "  </tbody>\n",
       "</table><p>"
      ],
      "text/plain": [
       "<IPython.core.display.HTML object>"
      ]
     },
     "metadata": {},
     "output_type": "display_data"
    },
    {
     "data": {
      "text/html": [
       "\n",
       "    <div>\n",
       "      \n",
       "      <progress value='1250' max='1250' style='width:300px; height:20px; vertical-align: middle;'></progress>\n",
       "      [1250/1250 01:02]\n",
       "    </div>\n",
       "    "
      ],
      "text/plain": [
       "<IPython.core.display.HTML object>"
      ]
     },
     "metadata": {},
     "output_type": "display_data"
    },
    {
     "name": "stdout",
     "output_type": "stream",
     "text": [
      "\n",
      "Processing fold: 5\n",
      "There are 40000 samples in train set\n",
      "There are 10000 samples in valid set\n"
     ]
    },
    {
     "data": {
      "application/vnd.jupyter.widget-view+json": {
       "model_id": "f4de0df3ff4045638a147157d47dc613",
       "version_major": 2,
       "version_minor": 0
      },
      "text/plain": [
       "HBox(children=(FloatProgress(value=0.0, max=1.0), HTML(value='')))"
      ]
     },
     "metadata": {},
     "output_type": "display_data"
    },
    {
     "name": "stdout",
     "output_type": "stream",
     "text": [
      "\n"
     ]
    },
    {
     "data": {
      "application/vnd.jupyter.widget-view+json": {
       "model_id": "f22a888d34444b87ac97abd3fa99a8d1",
       "version_major": 2,
       "version_minor": 0
      },
      "text/plain": [
       "HBox(children=(FloatProgress(value=0.0, max=1.0), HTML(value='')))"
      ]
     },
     "metadata": {},
     "output_type": "display_data"
    },
    {
     "name": "stdout",
     "output_type": "stream",
     "text": [
      "\n"
     ]
    },
    {
     "data": {
      "text/html": [
       "\n",
       "    <div>\n",
       "      \n",
       "      <progress value='3750' max='3750' style='width:300px; height:20px; vertical-align: middle;'></progress>\n",
       "      [3750/3750 34:02, Epoch 3/3]\n",
       "    </div>\n",
       "    <table border=\"1\" class=\"dataframe\">\n",
       "  <thead>\n",
       "    <tr style=\"text-align: left;\">\n",
       "      <th>Epoch</th>\n",
       "      <th>Training Loss</th>\n",
       "      <th>Validation Loss</th>\n",
       "      <th>Accuracy</th>\n",
       "      <th>F1</th>\n",
       "    </tr>\n",
       "  </thead>\n",
       "  <tbody>\n",
       "    <tr>\n",
       "      <td>1</td>\n",
       "      <td>0.258800</td>\n",
       "      <td>0.210940</td>\n",
       "      <td>0.917100</td>\n",
       "      <td>0.917043</td>\n",
       "    </tr>\n",
       "    <tr>\n",
       "      <td>2</td>\n",
       "      <td>0.153100</td>\n",
       "      <td>0.216229</td>\n",
       "      <td>0.923100</td>\n",
       "      <td>0.923084</td>\n",
       "    </tr>\n",
       "    <tr>\n",
       "      <td>3</td>\n",
       "      <td>0.095000</td>\n",
       "      <td>0.251844</td>\n",
       "      <td>0.926700</td>\n",
       "      <td>0.926698</td>\n",
       "    </tr>\n",
       "  </tbody>\n",
       "</table><p>"
      ],
      "text/plain": [
       "<IPython.core.display.HTML object>"
      ]
     },
     "metadata": {},
     "output_type": "display_data"
    },
    {
     "data": {
      "text/html": [
       "\n",
       "    <div>\n",
       "      \n",
       "      <progress value='1250' max='1250' style='width:300px; height:20px; vertical-align: middle;'></progress>\n",
       "      [1250/1250 01:02]\n",
       "    </div>\n",
       "    "
      ],
      "text/plain": [
       "<IPython.core.display.HTML object>"
      ]
     },
     "metadata": {},
     "output_type": "display_data"
    }
   ],
   "source": [
    "# split in train and validation\n",
    "# Trainer expects a column called label\n",
    "USED_COLUMNS = ['text', 'target']\n",
    "\n",
    "SEED = 1432\n",
    "\n",
    "kf = KFold(n_splits=N_FOLDS, shuffle=True, random_state=SEED)\n",
    "\n",
    "# to do training on GPU, if available (I'm using a P100)\n",
    "device = torch.device(\"cuda\" if torch.cuda.is_available() else \"cpu\")\n",
    "\n",
    "avg_acc_score = 0.\n",
    "\n",
    "for i, (train_idx, valid_idx) in enumerate(kf.split(df)):\n",
    "    print()\n",
    "    print(\"Processing fold:\", i + 1)\n",
    "\n",
    "    # here we split the DataFrame, using the indexes for the fold\n",
    "\n",
    "    train_df = df.iloc[train_idx][USED_COLUMNS]\n",
    "    valid_df = df.iloc[valid_idx][USED_COLUMNS]\n",
    "\n",
    "    print(f\"There are {train_df.shape[0]} samples in train set\")\n",
    "    print(f\"There are {valid_df.shape[0]} samples in valid set\")\n",
    "    \n",
    "    # rename rating to label\n",
    "    train_df = train_df.rename(columns={\"target\": \"label\"})\n",
    "    valid_df = valid_df.rename(columns={\"target\": \"label\"})\n",
    "    \n",
    "    ds_train = Dataset.from_pandas(train_df.reset_index(drop=True))\n",
    "    ds_valid = Dataset.from_pandas(valid_df.reset_index(drop=True))\n",
    "    \n",
    "    ds_train_encoded = ds_train.map(tokenize, batched=True, batch_size=None)\n",
    "    ds_valid_encoded = ds_valid.map(tokenize, batched=True, batch_size=None)\n",
    "    \n",
    "    # prepare the training on GPU (if available)\n",
    "    model = (AutoModelForSequenceClassification\n",
    "             .from_pretrained(MODEL_CKPT, num_labels=NUM_LABELS).to(device))\n",
    "    \n",
    "    batch_size = 32\n",
    "    batch_size_eval = 8\n",
    "\n",
    "    logging_steps = len(ds_train_encoded) // batch_size\n",
    "\n",
    "    model_name = f\"{MODEL_CKPT}-finetuned-tweets\"\n",
    "\n",
    "    training_args = TrainingArguments(output_dir=model_name,\n",
    "                                      num_train_epochs=EPOCHS,\n",
    "                                      learning_rate=2e-5,\n",
    "                                      per_device_train_batch_size=batch_size,\n",
    "                                      per_device_eval_batch_size=batch_size_eval,\n",
    "                                      weight_decay=0.01,\n",
    "                                      evaluation_strategy=\"epoch\",\n",
    "                                      save_strategy=\"epoch\",   \n",
    "                                      disable_tqdm=False,\n",
    "                                      logging_steps=logging_steps,\n",
    "                                      push_to_hub=False, \n",
    "                                      log_level=\"error\",\n",
    "                                      load_best_model_at_end=True,\n",
    "                                      # disable wanddb logging\n",
    "                                      report_to=\"none\"\n",
    "                                     )\n",
    "    \n",
    "    trainer = Trainer(model=model, args=training_args, \n",
    "                  compute_metrics=compute_metrics,\n",
    "                  train_dataset=ds_train_encoded,\n",
    "                  eval_dataset=ds_valid_encoded,\n",
    "                  tokenizer=tokenizer)\n",
    "    trainer.train();\n",
    "    \n",
    "    # save the model (label with fold id)\n",
    "    SAVED_MODEL = f\"saved_models/fold{i}\"\n",
    "\n",
    "    trainer.save_model(f'{SAVED_MODEL}')\n",
    "    \n",
    "    # compute avg f1-score\n",
    "    acc = trainer.predict(ds_valid_encoded).metrics['test_accuracy']\n",
    "    \n",
    "    avg_acc_score += acc/N_FOLDS"
   ]
  },
  {
   "cell_type": "code",
   "execution_count": 15,
   "id": "baa03daf",
   "metadata": {},
   "outputs": [
    {
     "name": "stdout",
     "output_type": "stream",
     "text": [
      "avg acc score is: 0.9201\n"
     ]
    }
   ],
   "source": [
    "# avg accuracy score across folds\n",
    "print(f\"avg acc score is: {round(avg_acc_score, 4)}\")"
   ]
  },
  {
   "cell_type": "markdown",
   "id": "0603513e",
   "metadata": {},
   "source": [
    "### Final remarks: \n",
    "\n",
    "The result obtained with distil-bert is the best so far:\n",
    "\n",
    "ACC = 0.92\n",
    "\n",
    "an improvement, if compared with ACC = 0.866 obtained with tf-idf"
   ]
  },
  {
   "cell_type": "code",
   "execution_count": null,
   "id": "9314cf16",
   "metadata": {},
   "outputs": [],
   "source": []
  },
  {
   "cell_type": "code",
   "execution_count": null,
   "id": "a64c9bff",
   "metadata": {},
   "outputs": [],
   "source": []
  }
 ],
 "metadata": {
  "kernelspec": {
   "display_name": "Python [conda env:nlp_p37_gpu_v2]",
   "language": "python",
   "name": "conda-env-nlp_p37_gpu_v2-py"
  },
  "language_info": {
   "codemirror_mode": {
    "name": "ipython",
    "version": 3
   },
   "file_extension": ".py",
   "mimetype": "text/x-python",
   "name": "python",
   "nbconvert_exporter": "python",
   "pygments_lexer": "ipython3",
   "version": "3.7.8"
  }
 },
 "nbformat": 4,
 "nbformat_minor": 5
}
